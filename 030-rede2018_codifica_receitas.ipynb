{
 "cells": [
  {
   "cell_type": "markdown",
   "metadata": {},
   "source": [
    "# 030-rede2018_codifica_receitas"
   ]
  },
  {
   "cell_type": "code",
   "execution_count": 1,
   "metadata": {},
   "outputs": [],
   "source": [
    "ano_eleicao = '2018'"
   ]
  },
  {
   "cell_type": "code",
   "execution_count": 2,
   "metadata": {},
   "outputs": [],
   "source": [
    "dbschema = f'rede{ano_eleicao}'\n",
    "dbschema_tse = f'tse{ano_eleicao}'\n",
    "table_receitas = f'{dbschema}.receitas_{ano_eleicao}'\n",
    "table_receitas_candidatos = f'{dbschema_tse}.receitas_candidatos_{ano_eleicao}'\n",
    "table_receitas_candidatos_doador_originario = f'{dbschema_tse}.receitas_candidatos_doador_originario_{ano_eleicao}'\n",
    "table_receitas_orgaos_partidarios = f'{dbschema_tse}.receitas_orgaos_partidarios_{ano_eleicao}'\n",
    "table_receitas_orgaos_partidarios_doador_originario= f'{dbschema_tse}.receitas_orgaos_partidarios_doador_originario_{ano_eleicao}'\n",
    "table_consulta_cand = f'{dbschema_tse}.consulta_cand_{ano_eleicao}'\n",
    "table_candidaturas = f\"{dbschema}.candidaturas_{ano_eleicao}\"\n",
    "table_municipios = f\"tse{ano_eleicao}.municipios_{ano_eleicao}\"\n",
    "table_partidos = f'{dbschema_tse}.partidos_{ano_eleicao}'\n",
    "table_orgaos_partidarios =  f\"{dbschema}.orgaos_partidarios_{ano_eleicao}\"\n",
    "table_origem_receitas = f'tse.origem_receitas'\n",
    "table_fonte_receitas = f'tse.fonte_receitas'"
   ]
  },
  {
   "cell_type": "code",
   "execution_count": 3,
   "metadata": {},
   "outputs": [],
   "source": [
    "import os\n",
    "import sys\n",
    "sys.path.append('../')\n",
    "import mod_tse as mtse\n",
    "home = os.environ[\"HOME\"]"
   ]
  },
  {
   "cell_type": "code",
   "execution_count": 4,
   "metadata": {},
   "outputs": [],
   "source": [
    "mtse.execute_query(f'CREATE SCHEMA IF NOT EXISTS {dbschema};')"
   ]
  },
  {
   "cell_type": "markdown",
   "metadata": {},
   "source": [
    "## CODIFICA DESCRIÇÃO, CÓDIGO E SIGLA ORIGEM DAS RECEITAS"
   ]
  },
  {
   "cell_type": "code",
   "execution_count": 5,
   "metadata": {},
   "outputs": [],
   "source": [
    "query_update_origem_receita = f\"\"\"\n",
    "update {table_receitas} as r\n",
    "    set receita_origem_sg = o.sg_origem_receita,\n",
    "        receita_origem_cd = o.cd_origem_receita,\n",
    "        receita_origem_ds = o.ds_origem_receita\n",
    "from {table_origem_receitas} as o\n",
    "where upper(r.receita_origem_cd) = upper(o.cd_origem_receita)\n",
    "or upper(r.receita_origem_ds) = upper(o.tx_origem_receita)\n",
    ";\n",
    "\"\"\"\n",
    "\n",
    "mtse.execute_query(query_update_origem_receita)"
   ]
  },
  {
   "cell_type": "markdown",
   "metadata": {},
   "source": [
    "## CODIFICA DESCRIÇÃO E CÓDIGO DA FONTE DA RECEITA"
   ]
  },
  {
   "cell_type": "code",
   "execution_count": 6,
   "metadata": {},
   "outputs": [],
   "source": [
    "query_update_fonte_receita = f\"\"\"\n",
    "update {table_receitas} as r\n",
    "    set receita_fonte_cd = f.cd_fonte_receita,\n",
    "        receita_fonte_ds = f.ds_fonte_receita\n",
    "from {table_fonte_receitas} as f\n",
    "where upper(r.receita_fonte_cd) = upper(f.cd_fonte_receita)\n",
    "or upper(r.receita_fonte_ds) = upper(f.tx_fonte_receita)\n",
    ";\n",
    "\"\"\"\n",
    "\n",
    "mtse.execute_query(query_update_fonte_receita)"
   ]
  },
  {
   "cell_type": "markdown",
   "metadata": {},
   "source": [
    "## CODIFICA UF E MUNICÍPIO DO DOADOR "
   ]
  },
  {
   "cell_type": "code",
   "execution_count": 7,
   "metadata": {},
   "outputs": [],
   "source": [
    "siglas_uf = list(mtse.unidades_da_federacao.keys())\n",
    "siglas_uf=\"'\" +\"','\".join(siglas_uf) +\"'\"\n",
    "\n",
    "query_update_uf_doador_OP = f\"\"\"\n",
    "update {table_receitas} as r\n",
    "    set doador_uf = m.sg_uf,\n",
    "        doador_ue_nome = m.nm_municipio\n",
    "from {table_municipios} as m\n",
    "where \n",
    "m.cd_municipio = doador_ue\n",
    ";\n",
    "\"\"\"\n",
    "\n",
    "mtse.execute_query(query_update_uf_doador_OP)"
   ]
  },
  {
   "cell_type": "markdown",
   "metadata": {},
   "source": [
    "## CODIFICA SIGLA/NUMERO DO PARTIDO DO DOADOR "
   ]
  },
  {
   "cell_type": "code",
   "execution_count": 8,
   "metadata": {},
   "outputs": [],
   "source": [
    "query_update_doador_partido_sg = f\"\"\"\n",
    "with partidos as\n",
    "(\n",
    "select sg_partido, nr_partido, nm_partido\n",
    "from {table_partidos}\n",
    "group by sg_partido, nr_partido, nm_partido\n",
    ")\n",
    "update {table_receitas} as r\n",
    "    set \n",
    "        doador_partido_sg   = p.sg_partido,\n",
    "        doador_partido_nr   = p.nr_partido,\n",
    "        doador_partido_nome = p.nm_partido        \n",
    "from partidos as p\n",
    "where \n",
    "upper(r.doador_partido_sg) = upper(p.sg_partido)\n",
    "or\n",
    "upper(r.doador_partido_nr) = upper(p.nr_partido)\n",
    ";\n",
    "\"\"\"\n",
    "\n",
    "mtse.execute_query(query_update_doador_partido_sg)"
   ]
  },
  {
   "cell_type": "markdown",
   "metadata": {},
   "source": [
    "## CODIFICA SIGLA/NUMERO DO PARTIDO DO RECEPTOR"
   ]
  },
  {
   "cell_type": "code",
   "execution_count": 9,
   "metadata": {},
   "outputs": [],
   "source": [
    "query_update_receptor_partido = f\"\"\"\n",
    "with partidos as\n",
    "(\n",
    "select sg_partido, nr_partido, nm_partido\n",
    "from {table_partidos}\n",
    "group by sg_partido, nr_partido, nm_partido\n",
    ")\n",
    "update {table_receitas} as r\n",
    "    set \n",
    "        receptor_partido_sg   = p.sg_partido,\n",
    "        receptor_partido_nr   = p.nr_partido,\n",
    "        receptor_partido_nome = p.nm_partido        \n",
    "from partidos as p\n",
    "where \n",
    "upper(r.receptor_partido_sg) = upper(p.sg_partido)\n",
    "or\n",
    "upper(r.receptor_partido_nr) = upper(p.nr_partido)\n",
    ";\n",
    "\"\"\"\n",
    "\n",
    "mtse.execute_query(query_update_receptor_partido)"
   ]
  },
  {
   "cell_type": "code",
   "execution_count": null,
   "metadata": {},
   "outputs": [],
   "source": []
  }
 ],
 "metadata": {
  "anaconda-cloud": {},
  "kernelspec": {
   "display_name": "Python 3",
   "language": "python",
   "name": "python3"
  },
  "language_info": {
   "codemirror_mode": {
    "name": "ipython",
    "version": 3
   },
   "file_extension": ".py",
   "mimetype": "text/x-python",
   "name": "python",
   "nbconvert_exporter": "python",
   "pygments_lexer": "ipython3",
   "version": "3.7.3"
  }
 },
 "nbformat": 4,
 "nbformat_minor": 4
}
