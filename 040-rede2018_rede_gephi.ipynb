{
 "cells": [
  {
   "cell_type": "markdown",
   "metadata": {},
   "source": [
    "# 040-rede2018_rede_gephi"
   ]
  },
  {
   "cell_type": "code",
   "execution_count": 1,
   "metadata": {},
   "outputs": [],
   "source": [
    "ano_eleicao = '2018'"
   ]
  },
  {
   "cell_type": "code",
   "execution_count": 2,
   "metadata": {},
   "outputs": [],
   "source": [
    "dbschema = f'rede{ano_eleicao}'\n",
    "table_edges = f\"{dbschema}.gephi_edges_{ano_eleicao}\"\n",
    "table_nodes = f\"{dbschema}.gephi_nodes_{ano_eleicao}\"\n",
    "table_receitas = f\"{dbschema}.receitas_{ano_eleicao}\"\n",
    "table_candidaturas = f\"{dbschema}.candidaturas_{ano_eleicao}\""
   ]
  },
  {
   "cell_type": "code",
   "execution_count": 3,
   "metadata": {},
   "outputs": [],
   "source": [
    "import sys\n",
    "sys.path.append('../')\n",
    "import mod_tse as mtse"
   ]
  },
  {
   "cell_type": "code",
   "execution_count": 4,
   "metadata": {},
   "outputs": [],
   "source": [
    "import os\n",
    "home = os.environ[\"HOME\"]\n",
    "local_dir = f'{home}/DADOS_TSE'"
   ]
  },
  {
   "cell_type": "markdown",
   "metadata": {},
   "source": [
    "## CRIA A TABELA DE ARESTAS"
   ]
  },
  {
   "cell_type": "code",
   "execution_count": 5,
   "metadata": {},
   "outputs": [],
   "source": [
    "query_create_table_edges = f\"\"\"\n",
    "drop table if exists {table_edges};\n",
    "create table {table_edges}\n",
    "(\n",
    "  Source character varying,\n",
    "  Target character varying,\n",
    "  Type character varying,\n",
    "  Weight numeric(18,2),\n",
    "  doador_tipo varchar,\n",
    "  doador_uf varchar,\n",
    "  doador_partido varchar,\n",
    "  doador_cargo varchar,\n",
    "  doador_genero varchar,\n",
    "  doador_label varchar,\n",
    "  receita_origem varchar,\n",
    "  receptor_tipo varchar,\n",
    "  receptor_uf varchar,\n",
    "  receptor_partido varchar,\n",
    "  receptor_cargo   varchar,\n",
    "  receptor_genero  varchar,\n",
    "  receptor_label character varying\n",
    ");\n",
    "\n",
    "CREATE INDEX ON {table_edges} (Source);\n",
    "CREATE INDEX ON {table_edges} (Target);\n",
    "\n",
    "\n",
    "insert into {table_edges}\n",
    "SELECT\n",
    "  doador_id           as Source ,\n",
    "  receptor_id         as Target,\n",
    "  'undirected'        as Type,\n",
    "  sum(receita_valor)  as Weight,\n",
    "  doador_tipo_cd      as  doador_tipo,\n",
    "  doador_uf           as  doador_uf,\n",
    "  doador_partido_sg   as doador_partido,\n",
    "  doador_candidato_cargo_ds  as doador_cargo,\n",
    "  doador_genero_ds    as doador_genero,\n",
    "  doador_label        as doador_label,\n",
    "  receita_origem_sg   as receita_origem,\n",
    "  receptor_tipo_cd    as receptor_tipo,\n",
    "  receptor_uf         as receptor_uf,\n",
    "  receptor_partido_sg as receptor_partido,\n",
    "  receptor_cargo_ds   as receptor_cargo,\n",
    "  receptor_genero_ds  as receptor_genero,\n",
    "  receptor_label      as receptor_label\n",
    "FROM {table_receitas}\n",
    "where\n",
    "  tabela_id in ('RC','ROP')\n",
    "group by \n",
    "  doador_id           ,\n",
    "  receptor_id         ,\n",
    "  doador_tipo_cd      ,\n",
    "  doador_uf           ,\n",
    "  doador_partido_sg   ,\n",
    "  doador_candidato_cargo_ds ,\n",
    "  doador_genero_ds ,\n",
    "  doador_label        ,\n",
    "  receita_origem_sg   ,\n",
    "  receptor_tipo_cd    ,\n",
    "  receptor_uf         ,\n",
    "  receptor_partido_sg ,\n",
    "  receptor_cargo_ds   ,\n",
    "  receptor_genero ,\n",
    "  receptor_label      \n",
    ";\n",
    "\"\"\"\n",
    "\n",
    "mtse.execute_query(query_create_table_edges)"
   ]
  },
  {
   "cell_type": "markdown",
   "metadata": {},
   "source": [
    "## CRIA A TABELA DE NÓS "
   ]
  },
  {
   "cell_type": "code",
   "execution_count": 6,
   "metadata": {},
   "outputs": [],
   "source": [
    "query_create_table_nodes = f\"\"\"\n",
    "\n",
    "drop table if exists {table_nodes};\n",
    "create table {table_nodes}\n",
    "(\n",
    "  Id  character varying,\n",
    "  Label character varying,\n",
    "  Weight numeric(18,2)\n",
    ");\n",
    "\n",
    "CREATE INDEX ON {table_nodes} (Id);\n",
    "\n",
    "insert into {table_nodes}\n",
    "select \n",
    "     target      , \n",
    "     max(receptor_label)\n",
    "     \n",
    "FROM {table_edges}  \n",
    "group by\n",
    "     target \n",
    ";\n",
    "\n",
    "with nodes_r as \n",
    "(select id from {table_nodes} )\n",
    "insert into {table_nodes} \n",
    "select * from\n",
    "(\n",
    "select \n",
    "     source      , \n",
    "     max(doador_label)\n",
    "    FROM {table_edges}\n",
    "group by\n",
    "     source       \n",
    ") as d\n",
    "where d.source not in (select id from nodes_r )\n",
    ";\n",
    "\"\"\"\n",
    "\n",
    "mtse.execute_query(query_create_table_nodes)"
   ]
  },
  {
   "cell_type": "markdown",
   "metadata": {},
   "source": [
    "## EXPORTA AS TABELAS DE ARESTAS E NÓS PARA PLANILHAS .CSV"
   ]
  },
  {
   "cell_type": "code",
   "execution_count": 7,
   "metadata": {},
   "outputs": [],
   "source": [
    "import pandas as pd\n",
    "df_edges=mtse.pandas_query(f'select * from {table_edges};')\n",
    "df_edges.to_csv(f'rede{ano_eleicao}_gephi_edges.csv',sep=';',index=False)\n",
    "\n",
    "df_nodes=mtse.pandas_query(f'select * from {table_nodes};')\n",
    "df_nodes.to_csv(f'rede{ano_eleicao}_gephi_nodes.csv',sep=';',index=False)"
   ]
  }
 ],
 "metadata": {
  "anaconda-cloud": {},
  "kernelspec": {
   "display_name": "Python 3",
   "language": "python",
   "name": "python3"
  },
  "language_info": {
   "codemirror_mode": {
    "name": "ipython",
    "version": 3
   },
   "file_extension": ".py",
   "mimetype": "text/x-python",
   "name": "python",
   "nbconvert_exporter": "python",
   "pygments_lexer": "ipython3",
   "version": "3.7.3"
  }
 },
 "nbformat": 4,
 "nbformat_minor": 4
}
